{
  "nbformat": 4,
  "nbformat_minor": 0,
  "metadata": {
    "colab": {
      "provenance": []
    },
    "kernelspec": {
      "name": "python3",
      "display_name": "Python 3"
    },
    "language_info": {
      "name": "python"
    }
  },
  "cells": [
    {
      "cell_type": "code",
      "execution_count": 10,
      "metadata": {
        "colab": {
          "base_uri": "https://localhost:8080/"
        },
        "id": "h1n6xaO3KFvX",
        "outputId": "ad002f90-cec7-4902-84a2-146da11b537d"
      },
      "outputs": [
        {
          "output_type": "stream",
          "name": "stderr",
          "text": [
            "[nltk_data] Downloading package punkt_tab to /root/nltk_data...\n",
            "[nltk_data]   Package punkt_tab is already up-to-date!\n"
          ]
        },
        {
          "output_type": "execute_result",
          "data": {
            "text/plain": [
              "True"
            ]
          },
          "metadata": {},
          "execution_count": 10
        }
      ],
      "source": [
        "import nltk\n",
        "nltk.download('punkt_tab') # Download the tokenizer data"
      ]
    },
    {
      "cell_type": "code",
      "source": [
        "# Sample Text\n",
        "text = \"Sailing in Croatia offers stunning views of the Adriatic Sea. The best sailing routes in Croatia include Dubrovnik and Split\""
      ],
      "metadata": {
        "id": "QH1mVI6aKPmp"
      },
      "execution_count": 11,
      "outputs": []
    },
    {
      "cell_type": "code",
      "source": [
        "# Word Tokenization\n",
        "word_tokens = nltk.word_tokenize(text)\n",
        "print(\"Word Tokens:\", word_tokens)"
      ],
      "metadata": {
        "colab": {
          "base_uri": "https://localhost:8080/"
        },
        "id": "h58kEXx6KWsl",
        "outputId": "19200593-0bd4-4ec4-f32c-6635b2579561"
      },
      "execution_count": 12,
      "outputs": [
        {
          "output_type": "stream",
          "name": "stdout",
          "text": [
            "Word Tokens: ['Sailing', 'in', 'Croatia', 'offers', 'stunning', 'views', 'of', 'the', 'Adriatic', 'Sea', '.', 'The', 'best', 'sailing', 'routes', 'in', 'Croatia', 'include', 'Dubrovnik', 'and', 'Split']\n"
          ]
        }
      ]
    },
    {
      "cell_type": "code",
      "source": [
        "# Sentence Tokenization\n",
        "sentence_tokens = nltk.sent_tokenize(text)\n",
        "print(\"Sentence Tokens:\", sentence_tokens)"
      ],
      "metadata": {
        "colab": {
          "base_uri": "https://localhost:8080/"
        },
        "id": "iQZFFoktKpPu",
        "outputId": "ceffdb4a-10bb-4e75-d92f-75f7fd970fae"
      },
      "execution_count": 13,
      "outputs": [
        {
          "output_type": "stream",
          "name": "stdout",
          "text": [
            "Sentence Tokens: ['Sailing in Croatia offers stunning views of the Adriatic Sea.', 'The best sailing routes in Croatia include Dubrovnik and Split']\n"
          ]
        }
      ]
    },
    {
      "cell_type": "code",
      "source": [
        "# convert text to lowercase and remove non-alphanumeric tokens\n",
        "def preprocess(text):\n",
        "  tokens = nltk.word_tokenize(text.lower())\n",
        "  return [word for word in tokens if word.isalnum()]\n",
        "\n",
        "documents = [\n",
        "    \"Sailing in Croatia offers stunning views of the Adriatic Sea.\",\n",
        "    \"The best sailing routes in Croatia include Dubrovnik and Split\",\n",
        "    \"Croatia has beautiful islands perfect for sailing.\"\n",
        "]\n",
        "\n",
        "preprocessed_docs = [' '.join(preprocess(doc)) for doc in documents]\n",
        "print(preprocessed_docs)"
      ],
      "metadata": {
        "colab": {
          "base_uri": "https://localhost:8080/"
        },
        "id": "gwgrizQcLLPs",
        "outputId": "c673db79-c6ec-4ec2-9e9f-4d9cb1b996e8"
      },
      "execution_count": 19,
      "outputs": [
        {
          "output_type": "stream",
          "name": "stdout",
          "text": [
            "['sailing in croatia offers stunning views of the adriatic sea', 'the best sailing routes in croatia include dubrovnik and split', 'croatia has beautiful islands perfect for sailing']\n"
          ]
        }
      ]
    },
    {
      "cell_type": "code",
      "source": [],
      "metadata": {
        "id": "yqkXd5zXLasg"
      },
      "execution_count": null,
      "outputs": []
    }
  ]
}