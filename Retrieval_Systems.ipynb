{
  "nbformat": 4,
  "nbformat_minor": 0,
  "metadata": {
    "colab": {
      "provenance": []
    },
    "kernelspec": {
      "name": "python3",
      "display_name": "Python 3"
    },
    "language_info": {
      "name": "python"
    }
  },
  "cells": [
    {
      "cell_type": "markdown",
      "source": [
        "# Libraries and Data"
      ],
      "metadata": {
        "id": "vj4TmlLuXV54"
      }
    },
    {
      "cell_type": "code",
      "source": [
        "# Sample documents about sailing in Croatia\n",
        "documents = ['Sailing in Croatia often includes visiting UNESCO World Heritage sites.',\n",
        " 'The Makarska Riviera is known for its stunning coastline and sailing opportunities.',\n",
        " 'Sailing in Croatia offers stunning views of the Adriatic Sea.',\n",
        " \"The city of Sibenik is home to the impressive St. James's Cathedral, a UNESCO World Heritage site.\",\n",
        " 'The island of Brač is known for its beautiful beaches and great sailing conditions.',\n",
        " 'Sailing to the island of Rab, known for its medieval old town, is a great experience.',\n",
        " 'The Pakleni Islands near Hvar are a popular spot for sailing yachts.',\n",
        " 'The island of Cres is one of the largest in Croatia and a great destination for sailing.',\n",
        " 'The island of Cres is one of the largest in Croatia and has a diverse wildlife.',\n",
        " 'The city of Zagreb is the capital of Croatia and offers a mix of modern and historic attractions.',\n",
        " 'Sailors can experience the traditional Dalmatian way of life in many coastal villages.',\n",
        " 'The city of Knin is known for its historic fortress and beautiful scenery.',\n",
        " 'The island of Krk is the largest island in the Adriatic Sea.',\n",
        " 'Croatia has a rich history dating back to the Roman Empire.',\n",
        " 'The island of Hvar is a popular destination for celebrities and high-end travelers.',\n",
        " 'The city of Varazdin is known for its baroque buildings and vibrant cultural scene.',\n",
        " 'Sailors can enjoy fresh seafood at many coastal restaurants in Croatia.',\n",
        " 'The coastal town of Senj is known for its carnival and Nehaj Fortress.',\n",
        " 'The Dalmatian Coast is a famous region for sailing in Croatia.',\n",
        " \"The Diocletian's Palace in Split is one of the most famous Roman ruins in Croatia.\",\n",
        " 'The island of Dugi Otok is known for its dramatic cliffs and beautiful sailing waters.',\n",
        " 'The island of Rab is famous for its medieval old town and stunning beaches.',\n",
        " 'The island of Mljet is home to a national park and is ideal for nature lovers.',\n",
        " 'Sailors in Croatia can visit ancient Roman ruins in Split.',\n",
        " 'The city of Kotor, just across the border in Montenegro, is a popular extension for Croatian sailing trips.',\n",
        " 'The island of Korcula is believed to be the birthplace of Marco Polo.',\n",
        " 'The town of Motovun in Istria is famous for its film festival.',\n",
        " 'The city of Nin is known for its ancient salt pans and historic church.',\n",
        " 'The city of Vukovar is known for its role in the Croatian War of Independence.',\n",
        " 'Sailing to the island of Lošinj, known for its health tourism, is a relaxing experience.',\n",
        " 'The island of Hvar is known for its vibrant nightlife and sailing opportunities.',\n",
        " 'The island of Korčula is believed to be the birthplace of Marco Polo and is a popular sailing destination.',\n",
        " 'Sailing in Croatia often involves stopping at picturesque fishing villages.',\n",
        " 'The city of Opatija is known for its grand villas and seaside promenade.',\n",
        " 'The city of Porec is known for the Euphrasian Basilica, a UNESCO World Heritage site.',\n",
        " 'The island of Brac is home to the famous Zlatni Rat beach, known for its changing shape.',\n",
        " 'Sailing around the island of Mljet offers a peaceful and scenic experience.',\n",
        " 'The Blue Cave on Biševo Island is a must-see for sailors.',\n",
        " 'The island of Pag is famous for its cheese and nightlife, and is a fun stop for sailors.',\n",
        " \"The island of Lastovo is one of Croatia's most remote and tranquil destinations.\",\n",
        " 'Sailors can enjoy snorkeling in the clear waters of the Adriatic Sea.',\n",
        " 'The city of Rovinj is a charming starting point for a sailing trip in Croatia.',\n",
        " \"Croatia's national parks, like Krka and Plitvice, are ideal for hiking and nature lovers.\",\n",
        " 'The city of Zadar is famous for its sunsets, which sailors can enjoy from the sea.',\n",
        " 'Croatia has over a thousand islands, each with its unique charm.',\n",
        " \"Croatia's Adriatic coast is dotted with charming fishing villages.\",\n",
        " 'Sailing to the island of Šolta offers a quiet escape from the more touristy areas.',\n",
        " 'Sailors in Croatia can explore over 1,200 islands.',\n",
        " 'Sailing in Croatia provides opportunities to visit ancient fortresses and castles along the coast.',\n",
        " 'Croatia is famous for its beautiful coastline and crystal-clear waters.',\n",
        " 'The island of Krk is accessible by bridge and is a popular starting point for sailing trips.',\n",
        " 'Sailing in Croatia is best enjoyed during the summer months.',\n",
        " 'The island of Pag is famous for its cheese, which is considered a delicacy.',\n",
        " 'The medieval town of Rovinj is one of the most picturesque places in Croatia.',\n",
        " 'The island of Losinj is famous for its health tourism and clean air.',\n",
        " 'The city of Dubrovnik, with its famous city walls, is a top destination for sailors.',\n",
        " 'Croatia has beautiful islands perfect for sailing.',\n",
        " 'Sailing in Croatia allows you to explore hidden coves and bays.',\n",
        " 'The city of Rijeka is an important cultural and economic center in Croatia.',\n",
        " 'The island of Mljet has a national park that is perfect for exploring by sailboat.',\n",
        " 'The Istrian Peninsula is famous for its truffles and gourmet food.',\n",
        " 'The town of Cavtat is a quieter alternative to nearby Dubrovnik.',\n",
        " 'The Peljesac Peninsula is known for its vineyards and wine production.',\n",
        " 'The Dubrovnik Summer Festival is a major cultural event featuring theater, music, and dance performances.',\n",
        " 'The city of Zadar is famous for its unique Sea Organ, an architectural sound art object.',\n",
        " 'The beaches in Croatia are among the best in Europe, with many receiving Blue Flag status.',\n",
        " 'Sailing around the island of Murter gives access to the Kornati Islands National Park.',\n",
        " 'The city of Trogir, with its historic architecture, is a great place to dock.',\n",
        " 'Sailing from Split to Dubrovnik offers breathtaking coastal scenery.',\n",
        " 'The Plitvice Lakes National Park is a UNESCO World Heritage site known for its stunning waterfalls and lakes.',\n",
        " 'The city of Hvar is one of the sunniest places in Europe and a popular sailing hub.',\n",
        " \"The city of Dubrovnik is often called the 'Pearl of the Adriatic'.\",\n",
        " 'The city of Osijek is located in the eastern part of Croatia and is known for its Baroque style.',\n",
        " 'The city of Pula, with its Roman amphitheater, is a unique sailing destination.',\n",
        " 'The town of Trogir is a UNESCO World Heritage site known for its medieval architecture.',\n",
        " 'Sailors in Croatia can enjoy local wines at many coastal vineyards.',\n",
        " 'Croatia has a Mediterranean climate, making it a great destination year-round.',\n",
        " 'Croatia has a diverse cultural heritage, with influences from Italy, Hungary, and Austria.',\n",
        " 'The city of Rijeka is an important cultural and historical sailing destination.',\n",
        " 'The best sailing routes in Croatia include Dubrovnik and Split.',\n",
        " 'The Brijuni Islands are a national park and a former presidential retreat.',\n",
        " 'Sailing to the Elaphiti Islands offers a mix of natural beauty and cultural sites.',\n",
        " 'Croatia is known for its delicious seafood cuisine.',\n",
        " 'The ancient city of Pula is known for its well-preserved Roman amphitheater.',\n",
        " 'The city of Opatija is a historical seaside resort that welcomes sailors.',\n",
        " 'The waters around Croatia are known for being calm and clear, ideal for sailing.',\n",
        " 'The Kornati Islands National Park is a popular sailing destination in Croatia.',\n",
        " \"Sailing around the Brijuni Islands offers a glimpse of Croatia's natural beauty and wildlife.\",\n",
        " 'The island of Vis was a military base and was closed to tourism until the 1990s.',\n",
        " 'The city of Split is a major port and gateway to the Dalmatian islands.',\n",
        " 'Sailing to the island of Vis provides access to the famous Blue Cave.',\n",
        " \"The city of Buzet in Istria is known as the 'City of Truffles'.\",\n",
        " 'The city of Karlovac is known for its parks and the rivers that flow through it.',\n",
        " 'Sailing to the island of Vis allows you to experience a more remote part of Croatia.',\n",
        " 'The city of Šibenik is a UNESCO World Heritage site and a great stop for sailors.',\n",
        " \"The town of Samobor is famous for its traditional cream cake called 'kremsnita'.\",\n",
        " 'Sailing around the island of Lastovo provides a more secluded experience.',\n",
        " \"Croatia's wine regions produce some excellent wines, especially in Istria and Dalmatia.\",\n",
        " 'Many sailors start their Croatian adventure from the city of Zadar.',\n",
        " 'The coastal town of Makarska is known for its beautiful beaches and lively nightlife.']"
      ],
      "metadata": {
        "id": "TrA2UFP-XkKy"
      },
      "execution_count": 12,
      "outputs": []
    },
    {
      "cell_type": "code",
      "source": [
        "# Loading the libararies\n",
        "import nltk\n",
        "from sklearn.feature_extraction.text import TfidfVectorizer # Import TfidfVectorizer\n",
        "import numpy as np"
      ],
      "metadata": {
        "id": "hlRkvOwjQ5DB"
      },
      "execution_count": 13,
      "outputs": []
    },
    {
      "cell_type": "code",
      "source": [
        "# Download the punkt package from nltk\n",
        "nltk.download('punkt_tab')\n",
        "nltk.download('stopwords') # remove common words does not affect query"
      ],
      "metadata": {
        "colab": {
          "base_uri": "https://localhost:8080/"
        },
        "id": "GmIs7324RE6p",
        "outputId": "24887bc3-9963-4462-e287-5f43dee08040"
      },
      "execution_count": 4,
      "outputs": [
        {
          "output_type": "stream",
          "name": "stderr",
          "text": [
            "[nltk_data] Downloading package punkt_tab to /root/nltk_data...\n",
            "[nltk_data]   Unzipping tokenizers/punkt_tab.zip.\n",
            "[nltk_data] Downloading package stopwords to /root/nltk_data...\n",
            "[nltk_data]   Unzipping corpora/stopwords.zip.\n"
          ]
        },
        {
          "output_type": "execute_result",
          "data": {
            "text/plain": [
              "True"
            ]
          },
          "metadata": {},
          "execution_count": 4
        }
      ]
    },
    {
      "cell_type": "markdown",
      "source": [
        "#Tokenization"
      ],
      "metadata": {
        "id": "dt0-Eq7xRXfN"
      }
    },
    {
      "cell_type": "code",
      "source": [
        "# Sample text\n",
        "text =  'The coastal town of Makarska is known for its beautiful beaches and lively nightlife. Many sailors start their Croatian adventure from the city of Zadar.'"
      ],
      "metadata": {
        "id": "qxGJe_yBRNIK"
      },
      "execution_count": 5,
      "outputs": []
    },
    {
      "cell_type": "code",
      "source": [
        "\n",
        "# Tokenize into a sentence\n",
        "sentences = nltk.sent_tokenize(text)\n",
        "print(f\"The tokenized sentences are: {sentences}\")"
      ],
      "metadata": {
        "colab": {
          "base_uri": "https://localhost:8080/"
        },
        "id": "nRMXMIV-TSbz",
        "outputId": "953319d5-e9be-4bff-e1b8-05b9fe15a3ec"
      },
      "execution_count": 14,
      "outputs": [
        {
          "output_type": "stream",
          "name": "stdout",
          "text": [
            "The tokenized sentences are: ['The coastal town of Makarska is known for its beautiful beaches and lively nightlife.', 'Many sailors start their Croatian adventure from the city of Zadar.']\n"
          ]
        }
      ]
    },
    {
      "cell_type": "code",
      "source": [
        "# Tokenize into words\n",
        "words = nltk.word_tokenize(text)\n",
        "print(f\"The tokenized words are: {words}\")"
      ],
      "metadata": {
        "colab": {
          "base_uri": "https://localhost:8080/"
        },
        "id": "Z6T1eCoHTbHi",
        "outputId": "3ddc293a-8abb-4fd3-f6fe-0ca50e5220ac"
      },
      "execution_count": 15,
      "outputs": [
        {
          "output_type": "stream",
          "name": "stdout",
          "text": [
            "The tokenized words are: ['The', 'coastal', 'town', 'of', 'Makarska', 'is', 'known', 'for', 'its', 'beautiful', 'beaches', 'and', 'lively', 'nightlife', '.', 'Many', 'sailors', 'start', 'their', 'Croatian', 'adventure', 'from', 'the', 'city', 'of', 'Zadar', '.']\n"
          ]
        }
      ]
    },
    {
      "cell_type": "markdown",
      "source": [
        "#Data Preprocessing"
      ],
      "metadata": {
        "id": "bVUt32JYUSOG"
      }
    },
    {
      "cell_type": "code",
      "source": [
        "# Preview the stop words\n",
        "print(f\"The stop words are: {nltk.corpus.stopwords.words('english')}\")"
      ],
      "metadata": {
        "colab": {
          "base_uri": "https://localhost:8080/"
        },
        "id": "-CG654qYVXoO",
        "outputId": "79ebdc19-cb07-4074-dc90-9e1ba008c098"
      },
      "execution_count": 8,
      "outputs": [
        {
          "output_type": "stream",
          "name": "stdout",
          "text": [
            "The stop words are: ['i', 'me', 'my', 'myself', 'we', 'our', 'ours', 'ourselves', 'you', \"you're\", \"you've\", \"you'll\", \"you'd\", 'your', 'yours', 'yourself', 'yourselves', 'he', 'him', 'his', 'himself', 'she', \"she's\", 'her', 'hers', 'herself', 'it', \"it's\", 'its', 'itself', 'they', 'them', 'their', 'theirs', 'themselves', 'what', 'which', 'who', 'whom', 'this', 'that', \"that'll\", 'these', 'those', 'am', 'is', 'are', 'was', 'were', 'be', 'been', 'being', 'have', 'has', 'had', 'having', 'do', 'does', 'did', 'doing', 'a', 'an', 'the', 'and', 'but', 'if', 'or', 'because', 'as', 'until', 'while', 'of', 'at', 'by', 'for', 'with', 'about', 'against', 'between', 'into', 'through', 'during', 'before', 'after', 'above', 'below', 'to', 'from', 'up', 'down', 'in', 'out', 'on', 'off', 'over', 'under', 'again', 'further', 'then', 'once', 'here', 'there', 'when', 'where', 'why', 'how', 'all', 'any', 'both', 'each', 'few', 'more', 'most', 'other', 'some', 'such', 'no', 'nor', 'not', 'only', 'own', 'same', 'so', 'than', 'too', 'very', 's', 't', 'can', 'will', 'just', 'don', \"don't\", 'should', \"should've\", 'now', 'd', 'll', 'm', 'o', 're', 've', 'y', 'ain', 'aren', \"aren't\", 'couldn', \"couldn't\", 'didn', \"didn't\", 'doesn', \"doesn't\", 'hadn', \"hadn't\", 'hasn', \"hasn't\", 'haven', \"haven't\", 'isn', \"isn't\", 'ma', 'mightn', \"mightn't\", 'mustn', \"mustn't\", 'needn', \"needn't\", 'shan', \"shan't\", 'shouldn', \"shouldn't\", 'wasn', \"wasn't\", 'weren', \"weren't\", 'won', \"won't\", 'wouldn', \"wouldn't\"]\n"
          ]
        }
      ]
    },
    {
      "cell_type": "code",
      "source": [
        "# Process the text: tokenization, only alphnumeric, lowercase, no stopwords\n",
        "def processed_text(text):\n",
        "  processed_text = text.lower()\n",
        "  processed_text = nltk.word_tokenize(processed_text)\n",
        "  processed_text = [word for word in processed_text if word.isalpha()]\n",
        "  processed_text = [word for word in processed_text if word not in nltk.corpus.stopwords.words('english')]\n",
        "  return processed_text\n"
      ],
      "metadata": {
        "id": "Zq5_b7ktT3To"
      },
      "execution_count": 16,
      "outputs": []
    },
    {
      "cell_type": "code",
      "source": [
        "# Apply the function\n",
        "processed_docs = [' '.join(processed_text(doc)) for doc in documents]\n",
        "processed_docs"
      ],
      "metadata": {
        "colab": {
          "base_uri": "https://localhost:8080/"
        },
        "id": "VQf5vKjvUjcK",
        "outputId": "8001f1df-5e8b-4dad-8691-80f316b0964f"
      },
      "execution_count": 17,
      "outputs": [
        {
          "output_type": "execute_result",
          "data": {
            "text/plain": [
              "['sailing croatia often includes visiting unesco world heritage sites',\n",
              " 'makarska riviera known stunning coastline sailing opportunities',\n",
              " 'sailing croatia offers stunning views adriatic sea',\n",
              " 'city sibenik home impressive james cathedral unesco world heritage site',\n",
              " 'island brač known beautiful beaches great sailing conditions',\n",
              " 'sailing island rab known medieval old town great experience',\n",
              " 'pakleni islands near hvar popular spot sailing yachts',\n",
              " 'island cres one largest croatia great destination sailing',\n",
              " 'island cres one largest croatia diverse wildlife',\n",
              " 'city zagreb capital croatia offers mix modern historic attractions',\n",
              " 'sailors experience traditional dalmatian way life many coastal villages',\n",
              " 'city knin known historic fortress beautiful scenery',\n",
              " 'island krk largest island adriatic sea',\n",
              " 'croatia rich history dating back roman empire',\n",
              " 'island hvar popular destination celebrities travelers',\n",
              " 'city varazdin known baroque buildings vibrant cultural scene',\n",
              " 'sailors enjoy fresh seafood many coastal restaurants croatia',\n",
              " 'coastal town senj known carnival nehaj fortress',\n",
              " 'dalmatian coast famous region sailing croatia',\n",
              " 'diocletian palace split one famous roman ruins croatia',\n",
              " 'island dugi otok known dramatic cliffs beautiful sailing waters',\n",
              " 'island rab famous medieval old town stunning beaches',\n",
              " 'island mljet home national park ideal nature lovers',\n",
              " 'sailors croatia visit ancient roman ruins split',\n",
              " 'city kotor across border montenegro popular extension croatian sailing trips',\n",
              " 'island korcula believed birthplace marco polo',\n",
              " 'town motovun istria famous film festival',\n",
              " 'city nin known ancient salt pans historic church',\n",
              " 'city vukovar known role croatian war independence',\n",
              " 'sailing island lošinj known health tourism relaxing experience',\n",
              " 'island hvar known vibrant nightlife sailing opportunities',\n",
              " 'island korčula believed birthplace marco polo popular sailing destination',\n",
              " 'sailing croatia often involves stopping picturesque fishing villages',\n",
              " 'city opatija known grand villas seaside promenade',\n",
              " 'city porec known euphrasian basilica unesco world heritage site',\n",
              " 'island brac home famous zlatni rat beach known changing shape',\n",
              " 'sailing around island mljet offers peaceful scenic experience',\n",
              " 'blue cave biševo island sailors',\n",
              " 'island pag famous cheese nightlife fun stop sailors',\n",
              " 'island lastovo one croatia remote tranquil destinations',\n",
              " 'sailors enjoy snorkeling clear waters adriatic sea',\n",
              " 'city rovinj charming starting point sailing trip croatia',\n",
              " 'croatia national parks like krka plitvice ideal hiking nature lovers',\n",
              " 'city zadar famous sunsets sailors enjoy sea',\n",
              " 'croatia thousand islands unique charm',\n",
              " 'croatia adriatic coast dotted charming fishing villages',\n",
              " 'sailing island šolta offers quiet escape touristy areas',\n",
              " 'sailors croatia explore islands',\n",
              " 'sailing croatia provides opportunities visit ancient fortresses castles along coast',\n",
              " 'croatia famous beautiful coastline waters',\n",
              " 'island krk accessible bridge popular starting point sailing trips',\n",
              " 'sailing croatia best enjoyed summer months',\n",
              " 'island pag famous cheese considered delicacy',\n",
              " 'medieval town rovinj one picturesque places croatia',\n",
              " 'island losinj famous health tourism clean air',\n",
              " 'city dubrovnik famous city walls top destination sailors',\n",
              " 'croatia beautiful islands perfect sailing',\n",
              " 'sailing croatia allows explore hidden coves bays',\n",
              " 'city rijeka important cultural economic center croatia',\n",
              " 'island mljet national park perfect exploring sailboat',\n",
              " 'istrian peninsula famous truffles gourmet food',\n",
              " 'town cavtat quieter alternative nearby dubrovnik',\n",
              " 'peljesac peninsula known vineyards wine production',\n",
              " 'dubrovnik summer festival major cultural event featuring theater music dance performances',\n",
              " 'city zadar famous unique sea organ architectural sound art object',\n",
              " 'beaches croatia among best europe many receiving blue flag status',\n",
              " 'sailing around island murter gives access kornati islands national park',\n",
              " 'city trogir historic architecture great place dock',\n",
              " 'sailing split dubrovnik offers breathtaking coastal scenery',\n",
              " 'plitvice lakes national park unesco world heritage site known stunning waterfalls lakes',\n",
              " 'city hvar one sunniest places europe popular sailing hub',\n",
              " 'city dubrovnik often called adriatic',\n",
              " 'city osijek located eastern part croatia known baroque style',\n",
              " 'city pula roman amphitheater unique sailing destination',\n",
              " 'town trogir unesco world heritage site known medieval architecture',\n",
              " 'sailors croatia enjoy local wines many coastal vineyards',\n",
              " 'croatia mediterranean climate making great destination',\n",
              " 'croatia diverse cultural heritage influences italy hungary austria',\n",
              " 'city rijeka important cultural historical sailing destination',\n",
              " 'best sailing routes croatia include dubrovnik split',\n",
              " 'brijuni islands national park former presidential retreat',\n",
              " 'sailing elaphiti islands offers mix natural beauty cultural sites',\n",
              " 'croatia known delicious seafood cuisine',\n",
              " 'ancient city pula known roman amphitheater',\n",
              " 'city opatija historical seaside resort welcomes sailors',\n",
              " 'waters around croatia known calm clear ideal sailing',\n",
              " 'kornati islands national park popular sailing destination croatia',\n",
              " 'sailing around brijuni islands offers glimpse croatia natural beauty wildlife',\n",
              " 'island vis military base closed tourism',\n",
              " 'city split major port gateway dalmatian islands',\n",
              " 'sailing island vis provides access famous blue cave',\n",
              " 'city buzet istria known truffles',\n",
              " 'city karlovac known parks rivers flow',\n",
              " 'sailing island vis allows experience remote part croatia',\n",
              " 'city šibenik unesco world heritage site great stop sailors',\n",
              " 'town samobor famous traditional cream cake called',\n",
              " 'sailing around island lastovo provides secluded experience',\n",
              " 'croatia wine regions produce excellent wines especially istria dalmatia',\n",
              " 'many sailors start croatian adventure city zadar',\n",
              " 'coastal town makarska known beautiful beaches lively nightlife']"
            ]
          },
          "metadata": {},
          "execution_count": 17
        }
      ]
    },
    {
      "cell_type": "markdown",
      "source": [
        "#TF-IDF\n"
      ],
      "metadata": {
        "id": "UPWSy-ixvT8h"
      }
    },
    {
      "cell_type": "code",
      "source": [
        "# Index the documents with TF-IDF\n",
        "\n",
        "vectorizer = TfidfVectorizer()\n",
        "tfidf_matrix = vectorizer.fit_transform(processed_docs)\n",
        "tfidf_matrix.toarray()"
      ],
      "metadata": {
        "id": "AcHsFLmlWKCh",
        "colab": {
          "base_uri": "https://localhost:8080/"
        },
        "outputId": "c6e8ecba-e61b-40f8-8205-be334ba1bcfd"
      },
      "execution_count": 18,
      "outputs": [
        {
          "output_type": "execute_result",
          "data": {
            "text/plain": [
              "array([[0., 0., 0., ..., 0., 0., 0.],\n",
              "       [0., 0., 0., ..., 0., 0., 0.],\n",
              "       [0., 0., 0., ..., 0., 0., 0.],\n",
              "       ...,\n",
              "       [0., 0., 0., ..., 0., 0., 0.],\n",
              "       [0., 0., 0., ..., 0., 0., 0.],\n",
              "       [0., 0., 0., ..., 0., 0., 0.]])"
            ]
          },
          "metadata": {},
          "execution_count": 18
        }
      ]
    },
    {
      "cell_type": "code",
      "source": [
        "# Sample query\n",
        "query = \"Sailing in Croatia is fun.\""
      ],
      "metadata": {
        "id": "E12wqK0jvnph"
      },
      "execution_count": 19,
      "outputs": []
    },
    {
      "cell_type": "code",
      "source": [
        "# Try the sample query in our document\n",
        "query_vec = vectorizer.transform([query])\n",
        "# query_vector.T.toarray()\n",
        "results = np.dot(tfidf_matrix, query_vec.T).toarray()\n",
        "print(f\"The results are: {results}\")"
      ],
      "metadata": {
        "colab": {
          "base_uri": "https://localhost:8080/"
        },
        "collapsed": true,
        "id": "gqbY0vCcwPpZ",
        "outputId": "9f4e5cfb-5cdd-4802-e81f-337ad8a11b41"
      },
      "execution_count": 28,
      "outputs": [
        {
          "output_type": "stream",
          "name": "stdout",
          "text": [
            "The results are: [[0.12351864]\n",
            " [0.06954217]\n",
            " [0.15076099]\n",
            " [0.        ]\n",
            " [0.07034705]\n",
            " [0.06927436]\n",
            " [0.06132724]\n",
            " [0.15081601]\n",
            " [0.0700388 ]\n",
            " [0.05669406]\n",
            " [0.        ]\n",
            " [0.        ]\n",
            " [0.        ]\n",
            " [0.05971918]\n",
            " [0.        ]\n",
            " [0.        ]\n",
            " [0.0629337 ]\n",
            " [0.        ]\n",
            " [0.16396662]\n",
            " [0.06349221]\n",
            " [0.06102138]\n",
            " [0.        ]\n",
            " [0.        ]\n",
            " [0.07097358]\n",
            " [0.05388465]\n",
            " [0.        ]\n",
            " [0.        ]\n",
            " [0.        ]\n",
            " [0.        ]\n",
            " [0.06761335]\n",
            " [0.07771692]\n",
            " [0.0614908 ]\n",
            " [0.12404875]\n",
            " [0.        ]\n",
            " [0.        ]\n",
            " [0.        ]\n",
            " [0.06732788]\n",
            " [0.        ]\n",
            " [0.38039951]\n",
            " [0.0667768 ]\n",
            " [0.        ]\n",
            " [0.13112394]\n",
            " [0.05139914]\n",
            " [0.        ]\n",
            " [0.07859039]\n",
            " [0.06460484]\n",
            " [0.06070517]\n",
            " [0.1068939 ]\n",
            " [0.10949353]\n",
            " [0.08966042]\n",
            " [0.05889416]\n",
            " [0.14695908]\n",
            " [0.        ]\n",
            " [0.06867278]\n",
            " [0.        ]\n",
            " [0.        ]\n",
            " [0.19783005]\n",
            " [0.12980071]\n",
            " [0.06672936]\n",
            " [0.        ]\n",
            " [0.        ]\n",
            " [0.        ]\n",
            " [0.        ]\n",
            " [0.        ]\n",
            " [0.        ]\n",
            " [0.05152563]\n",
            " [0.05935878]\n",
            " [0.        ]\n",
            " [0.07155077]\n",
            " [0.        ]\n",
            " [0.06118088]\n",
            " [0.        ]\n",
            " [0.05713899]\n",
            " [0.0746971 ]\n",
            " [0.        ]\n",
            " [0.06391296]\n",
            " [0.06996061]\n",
            " [0.05817482]\n",
            " [0.07416398]\n",
            " [0.14134791]\n",
            " [0.        ]\n",
            " [0.05998432]\n",
            " [0.0796296 ]\n",
            " [0.        ]\n",
            " [0.        ]\n",
            " [0.13834709]\n",
            " [0.15169944]\n",
            " [0.1163229 ]\n",
            " [0.        ]\n",
            " [0.        ]\n",
            " [0.06863818]\n",
            " [0.        ]\n",
            " [0.        ]\n",
            " [0.13920657]\n",
            " [0.        ]\n",
            " [0.        ]\n",
            " [0.0726286 ]\n",
            " [0.05207237]\n",
            " [0.        ]\n",
            " [0.        ]]\n"
          ]
        }
      ]
    },
    {
      "cell_type": "code",
      "source": [
        "# build a function to search the documents with TF-IDF\n",
        "def search(query, vectorizer, tfidf_matrix):\n",
        "  query_vec = vectorizer.transform([query])\n",
        "  results = np.dot(tfidf_matrix, query_vec.T).toarray()\n",
        "  return results\n"
      ],
      "metadata": {
        "id": "OfsRg5XawUv-"
      },
      "execution_count": 29,
      "outputs": []
    },
    {
      "cell_type": "code",
      "source": [
        "# Sort and Display the function\n",
        "results = search(query, vectorizer, tfidf_matrix)\n",
        "sorted_results = sorted(enumerate(results), key=lambda x: x[1][0], reverse=True)\n",
        "# Iterate over the sorted results to diplay the outcome\n",
        "for idx, score in sorted_results:\n",
        "  print(f\"Score: {score[0]:.2f} => Document: {documents[idx]}\") # Using idx which is integer to access documents\n"
      ],
      "metadata": {
        "colab": {
          "base_uri": "https://localhost:8080/"
        },
        "id": "y_aaN4Bmy_C2",
        "outputId": "8af59a21-7e9d-4b56-d29f-ff0f3d10e0f6"
      },
      "execution_count": 36,
      "outputs": [
        {
          "output_type": "stream",
          "name": "stdout",
          "text": [
            "Score: 0.38 => Document: The island of Pag is famous for its cheese and nightlife, and is a fun stop for sailors.\n",
            "Score: 0.20 => Document: Croatia has beautiful islands perfect for sailing.\n",
            "Score: 0.16 => Document: The Dalmatian Coast is a famous region for sailing in Croatia.\n",
            "Score: 0.15 => Document: The Kornati Islands National Park is a popular sailing destination in Croatia.\n",
            "Score: 0.15 => Document: The island of Cres is one of the largest in Croatia and a great destination for sailing.\n",
            "Score: 0.15 => Document: Sailing in Croatia offers stunning views of the Adriatic Sea.\n",
            "Score: 0.15 => Document: Sailing in Croatia is best enjoyed during the summer months.\n",
            "Score: 0.14 => Document: The best sailing routes in Croatia include Dubrovnik and Split.\n",
            "Score: 0.14 => Document: Sailing to the island of Vis allows you to experience a more remote part of Croatia.\n",
            "Score: 0.14 => Document: The waters around Croatia are known for being calm and clear, ideal for sailing.\n",
            "Score: 0.13 => Document: The city of Rovinj is a charming starting point for a sailing trip in Croatia.\n",
            "Score: 0.13 => Document: Sailing in Croatia allows you to explore hidden coves and bays.\n",
            "Score: 0.12 => Document: Sailing in Croatia often involves stopping at picturesque fishing villages.\n",
            "Score: 0.12 => Document: Sailing in Croatia often includes visiting UNESCO World Heritage sites.\n",
            "Score: 0.12 => Document: Sailing around the Brijuni Islands offers a glimpse of Croatia's natural beauty and wildlife.\n",
            "Score: 0.11 => Document: Sailing in Croatia provides opportunities to visit ancient fortresses and castles along the coast.\n",
            "Score: 0.11 => Document: Sailors in Croatia can explore over 1,200 islands.\n",
            "Score: 0.09 => Document: Croatia is famous for its beautiful coastline and crystal-clear waters.\n",
            "Score: 0.08 => Document: Croatia is known for its delicious seafood cuisine.\n",
            "Score: 0.08 => Document: Croatia has over a thousand islands, each with its unique charm.\n",
            "Score: 0.08 => Document: The island of Hvar is known for its vibrant nightlife and sailing opportunities.\n",
            "Score: 0.07 => Document: The city of Pula, with its Roman amphitheater, is a unique sailing destination.\n",
            "Score: 0.07 => Document: The city of Rijeka is an important cultural and historical sailing destination.\n",
            "Score: 0.07 => Document: Sailing around the island of Lastovo provides a more secluded experience.\n",
            "Score: 0.07 => Document: Sailing from Split to Dubrovnik offers breathtaking coastal scenery.\n",
            "Score: 0.07 => Document: Sailors in Croatia can visit ancient Roman ruins in Split.\n",
            "Score: 0.07 => Document: The island of Brač is known for its beautiful beaches and great sailing conditions.\n",
            "Score: 0.07 => Document: The island of Cres is one of the largest in Croatia and has a diverse wildlife.\n",
            "Score: 0.07 => Document: Croatia has a Mediterranean climate, making it a great destination year-round.\n",
            "Score: 0.07 => Document: The Makarska Riviera is known for its stunning coastline and sailing opportunities.\n",
            "Score: 0.07 => Document: Sailing to the island of Rab, known for its medieval old town, is a great experience.\n",
            "Score: 0.07 => Document: The medieval town of Rovinj is one of the most picturesque places in Croatia.\n",
            "Score: 0.07 => Document: Sailing to the island of Vis provides access to the famous Blue Cave.\n",
            "Score: 0.07 => Document: Sailing to the island of Lošinj, known for its health tourism, is a relaxing experience.\n",
            "Score: 0.07 => Document: Sailing around the island of Mljet offers a peaceful and scenic experience.\n",
            "Score: 0.07 => Document: The island of Lastovo is one of Croatia's most remote and tranquil destinations.\n",
            "Score: 0.07 => Document: The city of Rijeka is an important cultural and economic center in Croatia.\n",
            "Score: 0.06 => Document: Croatia's Adriatic coast is dotted with charming fishing villages.\n",
            "Score: 0.06 => Document: Sailors in Croatia can enjoy local wines at many coastal vineyards.\n",
            "Score: 0.06 => Document: The Diocletian's Palace in Split is one of the most famous Roman ruins in Croatia.\n",
            "Score: 0.06 => Document: Sailors can enjoy fresh seafood at many coastal restaurants in Croatia.\n",
            "Score: 0.06 => Document: The island of Korčula is believed to be the birthplace of Marco Polo and is a popular sailing destination.\n",
            "Score: 0.06 => Document: The Pakleni Islands near Hvar are a popular spot for sailing yachts.\n",
            "Score: 0.06 => Document: The city of Hvar is one of the sunniest places in Europe and a popular sailing hub.\n",
            "Score: 0.06 => Document: The island of Dugi Otok is known for its dramatic cliffs and beautiful sailing waters.\n",
            "Score: 0.06 => Document: Sailing to the island of Šolta offers a quiet escape from the more touristy areas.\n",
            "Score: 0.06 => Document: Sailing to the Elaphiti Islands offers a mix of natural beauty and cultural sites.\n",
            "Score: 0.06 => Document: Croatia has a rich history dating back to the Roman Empire.\n",
            "Score: 0.06 => Document: Sailing around the island of Murter gives access to the Kornati Islands National Park.\n",
            "Score: 0.06 => Document: The island of Krk is accessible by bridge and is a popular starting point for sailing trips.\n",
            "Score: 0.06 => Document: Croatia has a diverse cultural heritage, with influences from Italy, Hungary, and Austria.\n",
            "Score: 0.06 => Document: The city of Osijek is located in the eastern part of Croatia and is known for its Baroque style.\n",
            "Score: 0.06 => Document: The city of Zagreb is the capital of Croatia and offers a mix of modern and historic attractions.\n",
            "Score: 0.05 => Document: The city of Kotor, just across the border in Montenegro, is a popular extension for Croatian sailing trips.\n",
            "Score: 0.05 => Document: Croatia's wine regions produce some excellent wines, especially in Istria and Dalmatia.\n",
            "Score: 0.05 => Document: The beaches in Croatia are among the best in Europe, with many receiving Blue Flag status.\n",
            "Score: 0.05 => Document: Croatia's national parks, like Krka and Plitvice, are ideal for hiking and nature lovers.\n",
            "Score: 0.00 => Document: The city of Sibenik is home to the impressive St. James's Cathedral, a UNESCO World Heritage site.\n",
            "Score: 0.00 => Document: Sailors can experience the traditional Dalmatian way of life in many coastal villages.\n",
            "Score: 0.00 => Document: The city of Knin is known for its historic fortress and beautiful scenery.\n",
            "Score: 0.00 => Document: The island of Krk is the largest island in the Adriatic Sea.\n",
            "Score: 0.00 => Document: The island of Hvar is a popular destination for celebrities and high-end travelers.\n",
            "Score: 0.00 => Document: The city of Varazdin is known for its baroque buildings and vibrant cultural scene.\n",
            "Score: 0.00 => Document: The coastal town of Senj is known for its carnival and Nehaj Fortress.\n",
            "Score: 0.00 => Document: The island of Rab is famous for its medieval old town and stunning beaches.\n",
            "Score: 0.00 => Document: The island of Mljet is home to a national park and is ideal for nature lovers.\n",
            "Score: 0.00 => Document: The island of Korcula is believed to be the birthplace of Marco Polo.\n",
            "Score: 0.00 => Document: The town of Motovun in Istria is famous for its film festival.\n",
            "Score: 0.00 => Document: The city of Nin is known for its ancient salt pans and historic church.\n",
            "Score: 0.00 => Document: The city of Vukovar is known for its role in the Croatian War of Independence.\n",
            "Score: 0.00 => Document: The city of Opatija is known for its grand villas and seaside promenade.\n",
            "Score: 0.00 => Document: The city of Porec is known for the Euphrasian Basilica, a UNESCO World Heritage site.\n",
            "Score: 0.00 => Document: The island of Brac is home to the famous Zlatni Rat beach, known for its changing shape.\n",
            "Score: 0.00 => Document: The Blue Cave on Biševo Island is a must-see for sailors.\n",
            "Score: 0.00 => Document: Sailors can enjoy snorkeling in the clear waters of the Adriatic Sea.\n",
            "Score: 0.00 => Document: The city of Zadar is famous for its sunsets, which sailors can enjoy from the sea.\n",
            "Score: 0.00 => Document: The island of Pag is famous for its cheese, which is considered a delicacy.\n",
            "Score: 0.00 => Document: The island of Losinj is famous for its health tourism and clean air.\n",
            "Score: 0.00 => Document: The city of Dubrovnik, with its famous city walls, is a top destination for sailors.\n",
            "Score: 0.00 => Document: The island of Mljet has a national park that is perfect for exploring by sailboat.\n",
            "Score: 0.00 => Document: The Istrian Peninsula is famous for its truffles and gourmet food.\n",
            "Score: 0.00 => Document: The town of Cavtat is a quieter alternative to nearby Dubrovnik.\n",
            "Score: 0.00 => Document: The Peljesac Peninsula is known for its vineyards and wine production.\n",
            "Score: 0.00 => Document: The Dubrovnik Summer Festival is a major cultural event featuring theater, music, and dance performances.\n",
            "Score: 0.00 => Document: The city of Zadar is famous for its unique Sea Organ, an architectural sound art object.\n",
            "Score: 0.00 => Document: The city of Trogir, with its historic architecture, is a great place to dock.\n",
            "Score: 0.00 => Document: The Plitvice Lakes National Park is a UNESCO World Heritage site known for its stunning waterfalls and lakes.\n",
            "Score: 0.00 => Document: The city of Dubrovnik is often called the 'Pearl of the Adriatic'.\n",
            "Score: 0.00 => Document: The town of Trogir is a UNESCO World Heritage site known for its medieval architecture.\n",
            "Score: 0.00 => Document: The Brijuni Islands are a national park and a former presidential retreat.\n",
            "Score: 0.00 => Document: The ancient city of Pula is known for its well-preserved Roman amphitheater.\n",
            "Score: 0.00 => Document: The city of Opatija is a historical seaside resort that welcomes sailors.\n",
            "Score: 0.00 => Document: The island of Vis was a military base and was closed to tourism until the 1990s.\n",
            "Score: 0.00 => Document: The city of Split is a major port and gateway to the Dalmatian islands.\n",
            "Score: 0.00 => Document: The city of Buzet in Istria is known as the 'City of Truffles'.\n",
            "Score: 0.00 => Document: The city of Karlovac is known for its parks and the rivers that flow through it.\n",
            "Score: 0.00 => Document: The city of Šibenik is a UNESCO World Heritage site and a great stop for sailors.\n",
            "Score: 0.00 => Document: The town of Samobor is famous for its traditional cream cake called 'kremsnita'.\n",
            "Score: 0.00 => Document: Many sailors start their Croatian adventure from the city of Zadar.\n",
            "Score: 0.00 => Document: The coastal town of Makarska is known for its beautiful beaches and lively nightlife.\n"
          ]
        }
      ]
    },
    {
      "cell_type": "markdown",
      "source": [
        "# Boolean search"
      ],
      "metadata": {
        "id": "T5RKQxjI12_4"
      }
    },
    {
      "cell_type": "code",
      "source": [
        "# Process the text: tokenization, remove non-alphanumeric characters, convert to lower case, and remove stopwords (excluding 'and', 'or', 'not')\n",
        "def process_text_boolean(text):\n",
        "    # Convert text to lowercase\n",
        "    processed_text = text.lower()\n",
        "\n",
        "    # Tokenize the text into words\n",
        "    processed_text = nltk.word_tokenize(processed_text)\n",
        "\n",
        "    # Remove non-alphanumeric tokens\n",
        "    processed_text = [word for word in processed_text if word.isalnum()]\n",
        "\n",
        "    # Define stopwords excluding 'and', 'or', 'not'\n",
        "    stopwords = set(nltk.corpus.stopwords.words(\"english\")) - {'and', 'or', 'not'}\n",
        "\n",
        "    # Remove stopwords from the tokenized text\n",
        "    processed_text = [word for word in processed_text if word not in stopwords]\n",
        "\n",
        "    return processed_text"
      ],
      "metadata": {
        "id": "NAtDSgkU5dqZ"
      },
      "execution_count": 47,
      "outputs": []
    },
    {
      "cell_type": "code",
      "source": [
        "# define a function for the boolean search\n",
        "def boolean_search(query, documents):\n",
        "  query_tokens = process_text_boolean(query)\n",
        "\n",
        "  results = []\n",
        "\n",
        "  for doc_id, doc in enumerate(documents):\n",
        "    doc_tokens = set(process_text_boolean(doc))\n",
        "    include_doc = False\n",
        "\n",
        "    for i, token in enumerate(query_tokens):\n",
        "      # Handling the \"and\" operator\n",
        "      if token == \"and\" and i + 1 < len(query_tokens):\n",
        "        # If the AND operator is found, check if the next token is in the document\n",
        "        include_doc = include_doc and (query_tokens[i + 1] in doc_tokens)\n",
        "\n",
        "      elif token == \"or\" and i + 1 < len(query_tokens):\n",
        "        # If the OR operator is found, check if the next token is in the document\n",
        "        include_doc = include_doc or (query_tokens[i + 1] in doc_tokens)\n",
        "\n",
        "      elif token == \"not\" and i + 1 < len(query_tokens):\n",
        "        # If the NOT operator is found, exclude the document if the next token is present\n",
        "        if query_tokens[i + 1] in doc_tokens:\n",
        "          include_doc = False\n",
        "          break # Why is it not exiting the loop?\n",
        "\n",
        "      else:\n",
        "        # For normal tokens check if the document should be included\n",
        "        include_doc = token in doc_tokens or include_doc\n",
        "\n",
        "    if include_doc:\n",
        "      results.append((doc_id, doc))\n",
        "\n",
        "  return results"
      ],
      "metadata": {
        "id": "Yyd09zrAzF_u"
      },
      "execution_count": 48,
      "outputs": []
    },
    {
      "cell_type": "code",
      "source": [
        "# Define a search query\n",
        "query = \"Sailing not Croatia\"\n",
        "\n",
        "# Perform the boolean search\n",
        "boolean_results = boolean_search(query, documents)\n",
        "\n",
        "# print the results\n",
        "for doc_id, doc in boolean_results:\n",
        "  print(\"Document ID: {}, Document: {}\".format(doc_id, doc))"
      ],
      "metadata": {
        "colab": {
          "base_uri": "https://localhost:8080/"
        },
        "id": "hywnkBs_4WQ9",
        "outputId": "013e1153-deea-4ba1-a865-26ffd2f96a9b"
      },
      "execution_count": 51,
      "outputs": [
        {
          "output_type": "stream",
          "name": "stdout",
          "text": [
            "Document ID: 1, Document: The Makarska Riviera is known for its stunning coastline and sailing opportunities.\n",
            "Document ID: 4, Document: The island of Brač is known for its beautiful beaches and great sailing conditions.\n",
            "Document ID: 5, Document: Sailing to the island of Rab, known for its medieval old town, is a great experience.\n",
            "Document ID: 6, Document: The Pakleni Islands near Hvar are a popular spot for sailing yachts.\n",
            "Document ID: 20, Document: The island of Dugi Otok is known for its dramatic cliffs and beautiful sailing waters.\n",
            "Document ID: 24, Document: The city of Kotor, just across the border in Montenegro, is a popular extension for Croatian sailing trips.\n",
            "Document ID: 29, Document: Sailing to the island of Lošinj, known for its health tourism, is a relaxing experience.\n",
            "Document ID: 30, Document: The island of Hvar is known for its vibrant nightlife and sailing opportunities.\n",
            "Document ID: 31, Document: The island of Korčula is believed to be the birthplace of Marco Polo and is a popular sailing destination.\n",
            "Document ID: 36, Document: Sailing around the island of Mljet offers a peaceful and scenic experience.\n",
            "Document ID: 46, Document: Sailing to the island of Šolta offers a quiet escape from the more touristy areas.\n",
            "Document ID: 50, Document: The island of Krk is accessible by bridge and is a popular starting point for sailing trips.\n",
            "Document ID: 66, Document: Sailing around the island of Murter gives access to the Kornati Islands National Park.\n",
            "Document ID: 68, Document: Sailing from Split to Dubrovnik offers breathtaking coastal scenery.\n",
            "Document ID: 70, Document: The city of Hvar is one of the sunniest places in Europe and a popular sailing hub.\n",
            "Document ID: 73, Document: The city of Pula, with its Roman amphitheater, is a unique sailing destination.\n",
            "Document ID: 78, Document: The city of Rijeka is an important cultural and historical sailing destination.\n",
            "Document ID: 81, Document: Sailing to the Elaphiti Islands offers a mix of natural beauty and cultural sites.\n",
            "Document ID: 90, Document: Sailing to the island of Vis provides access to the famous Blue Cave.\n",
            "Document ID: 96, Document: Sailing around the island of Lastovo provides a more secluded experience.\n"
          ]
        }
      ]
    },
    {
      "cell_type": "markdown",
      "source": [
        "# Probabalistic Retrival Model"
      ],
      "metadata": {
        "id": "wX0-Zfzf__FG"
      }
    },
    {
      "cell_type": "code",
      "source": [
        "!pip install rank_bm25"
      ],
      "metadata": {
        "colab": {
          "base_uri": "https://localhost:8080/"
        },
        "id": "oY5TSyRx4g3h",
        "outputId": "0b313d15-69bb-40ab-a293-aa88e96bcd85"
      },
      "execution_count": 53,
      "outputs": [
        {
          "output_type": "stream",
          "name": "stdout",
          "text": [
            "Collecting rank_bm25\n",
            "  Downloading rank_bm25-0.2.2-py3-none-any.whl.metadata (3.2 kB)\n",
            "Requirement already satisfied: numpy in /usr/local/lib/python3.11/dist-packages (from rank_bm25) (1.26.4)\n",
            "Downloading rank_bm25-0.2.2-py3-none-any.whl (8.6 kB)\n",
            "Installing collected packages: rank_bm25\n",
            "Successfully installed rank_bm25-0.2.2\n"
          ]
        }
      ]
    },
    {
      "cell_type": "code",
      "source": [
        "from rank_bm25 import BM25Okapi"
      ],
      "metadata": {
        "id": "GPvFPLDHAE_m"
      },
      "execution_count": 55,
      "outputs": []
    },
    {
      "cell_type": "code",
      "source": [
        "#\n",
        "tokenize_docs = [processed_text(doc) for doc in documents]\n"
      ],
      "metadata": {
        "id": "DA8h3iAvANzs"
      },
      "execution_count": 60,
      "outputs": []
    },
    {
      "cell_type": "code",
      "source": [
        "# Initialize the model\n",
        "model = BM25Okapi(tokenize_docs)"
      ],
      "metadata": {
        "id": "SSqs1YgfAWQC"
      },
      "execution_count": 61,
      "outputs": []
    },
    {
      "cell_type": "code",
      "source": [
        "# Define probablistic function\n",
        "def bm25_search(query, model):\n",
        "  query_tokens = processed_text(query)\n",
        "  doc_scores = model.get_scores(query_tokens)\n",
        "  return doc_scores"
      ],
      "metadata": {
        "id": "LA25iHrhAsY2"
      },
      "execution_count": 63,
      "outputs": []
    },
    {
      "cell_type": "code",
      "source": [
        "# Apply the Model\n",
        "query = \"top 10 things to do in Croatia\"\n",
        "bm25_results = bm25_search(query, model)"
      ],
      "metadata": {
        "id": "WCz4PbceA0Cz"
      },
      "execution_count": 64,
      "outputs": []
    },
    {
      "cell_type": "code",
      "source": [
        "# Sort and Display the results\n",
        "sorted_bm25_results = np.argsort(bm25_results)[::-1]\n",
        "for idx in sorted_bm25_results:\n",
        "  print(\"Score {:.3f} => Document: {}\".format(bm25_results[idx], documents[idx]))"
      ],
      "metadata": {
        "colab": {
          "base_uri": "https://localhost:8080/"
        },
        "id": "oKbOmZ20BAli",
        "outputId": "49b53ea5-ccf3-4d74-f101-d0cdd50f52a8"
      },
      "execution_count": 69,
      "outputs": [
        {
          "output_type": "stream",
          "name": "stdout",
          "text": [
            "Score 4.088 => Document: The city of Dubrovnik, with its famous city walls, is a top destination for sailors.\n",
            "Score 0.722 => Document: Sailors in Croatia can explore over 1,200 islands.\n",
            "Score 0.672 => Document: Croatia is famous for its beautiful coastline and crystal-clear waters.\n",
            "Score 0.672 => Document: Croatia has beautiful islands perfect for sailing.\n",
            "Score 0.672 => Document: Croatia has over a thousand islands, each with its unique charm.\n",
            "Score 0.672 => Document: Croatia is known for its delicious seafood cuisine.\n",
            "Score 0.628 => Document: Sailing in Croatia is best enjoyed during the summer months.\n",
            "Score 0.628 => Document: Croatia has a Mediterranean climate, making it a great destination year-round.\n",
            "Score 0.628 => Document: The Dalmatian Coast is a famous region for sailing in Croatia.\n",
            "Score 0.589 => Document: The city of Rijeka is an important cultural and economic center in Croatia.\n",
            "Score 0.589 => Document: The medieval town of Rovinj is one of the most picturesque places in Croatia.\n",
            "Score 0.589 => Document: The best sailing routes in Croatia include Dubrovnik and Split.\n",
            "Score 0.589 => Document: Croatia's Adriatic coast is dotted with charming fishing villages.\n",
            "Score 0.589 => Document: The island of Lastovo is one of Croatia's most remote and tranquil destinations.\n",
            "Score 0.589 => Document: Sailors in Croatia can visit ancient Roman ruins in Split.\n",
            "Score 0.589 => Document: Croatia has a rich history dating back to the Roman Empire.\n",
            "Score 0.589 => Document: The island of Cres is one of the largest in Croatia and has a diverse wildlife.\n",
            "Score 0.589 => Document: Sailing in Croatia offers stunning views of the Adriatic Sea.\n",
            "Score 0.589 => Document: Sailing in Croatia allows you to explore hidden coves and bays.\n",
            "Score 0.555 => Document: The waters around Croatia are known for being calm and clear, ideal for sailing.\n",
            "Score 0.555 => Document: The Kornati Islands National Park is a popular sailing destination in Croatia.\n",
            "Score 0.555 => Document: The city of Rovinj is a charming starting point for a sailing trip in Croatia.\n",
            "Score 0.555 => Document: Sailing in Croatia often involves stopping at picturesque fishing villages.\n",
            "Score 0.555 => Document: The Diocletian's Palace in Split is one of the most famous Roman ruins in Croatia.\n",
            "Score 0.555 => Document: Sailors can enjoy fresh seafood at many coastal restaurants in Croatia.\n",
            "Score 0.555 => Document: Croatia has a diverse cultural heritage, with influences from Italy, Hungary, and Austria.\n",
            "Score 0.555 => Document: Sailing to the island of Vis allows you to experience a more remote part of Croatia.\n",
            "Score 0.555 => Document: Sailors in Croatia can enjoy local wines at many coastal vineyards.\n",
            "Score 0.555 => Document: The island of Cres is one of the largest in Croatia and a great destination for sailing.\n",
            "Score 0.524 => Document: The city of Zagreb is the capital of Croatia and offers a mix of modern and historic attractions.\n",
            "Score 0.524 => Document: Sailing in Croatia often includes visiting UNESCO World Heritage sites.\n",
            "Score 0.524 => Document: Croatia's wine regions produce some excellent wines, especially in Istria and Dalmatia.\n",
            "Score 0.524 => Document: The city of Osijek is located in the eastern part of Croatia and is known for its Baroque style.\n",
            "Score 0.497 => Document: Sailing around the Brijuni Islands offers a glimpse of Croatia's natural beauty and wildlife.\n",
            "Score 0.497 => Document: The beaches in Croatia are among the best in Europe, with many receiving Blue Flag status.\n",
            "Score 0.497 => Document: Croatia's national parks, like Krka and Plitvice, are ideal for hiking and nature lovers.\n",
            "Score 0.497 => Document: Sailing in Croatia provides opportunities to visit ancient fortresses and castles along the coast.\n",
            "Score 0.000 => Document: The island of Mljet is home to a national park and is ideal for nature lovers.\n",
            "Score 0.000 => Document: Sailing to the island of Vis provides access to the famous Blue Cave.\n",
            "Score 0.000 => Document: The city of Split is a major port and gateway to the Dalmatian islands.\n",
            "Score 0.000 => Document: The island of Dugi Otok is known for its dramatic cliffs and beautiful sailing waters.\n",
            "Score 0.000 => Document: The island of Rab is famous for its medieval old town and stunning beaches.\n",
            "Score 0.000 => Document: The city of Kotor, just across the border in Montenegro, is a popular extension for Croatian sailing trips.\n",
            "Score 0.000 => Document: The island of Vis was a military base and was closed to tourism until the 1990s.\n",
            "Score 0.000 => Document: The island of Korcula is believed to be the birthplace of Marco Polo.\n",
            "Score 0.000 => Document: The town of Motovun in Istria is famous for its film festival.\n",
            "Score 0.000 => Document: The city of Nin is known for its ancient salt pans and historic church.\n",
            "Score 0.000 => Document: The city of Vukovar is known for its role in the Croatian War of Independence.\n",
            "Score 0.000 => Document: Sailing to the island of Lošinj, known for its health tourism, is a relaxing experience.\n",
            "Score 0.000 => Document: The island of Hvar is known for its vibrant nightlife and sailing opportunities.\n",
            "Score 0.000 => Document: The coastal town of Senj is known for its carnival and Nehaj Fortress.\n",
            "Score 0.000 => Document: Sailing from Split to Dubrovnik offers breathtaking coastal scenery.\n",
            "Score 0.000 => Document: The city of Buzet in Istria is known as the 'City of Truffles'.\n",
            "Score 0.000 => Document: The island of Korčula is believed to be the birthplace of Marco Polo and is a popular sailing destination.\n",
            "Score 0.000 => Document: The island of Hvar is a popular destination for celebrities and high-end travelers.\n",
            "Score 0.000 => Document: The city of Karlovac is known for its parks and the rivers that flow through it.\n",
            "Score 0.000 => Document: The island of Krk is the largest island in the Adriatic Sea.\n",
            "Score 0.000 => Document: The city of Knin is known for its historic fortress and beautiful scenery.\n",
            "Score 0.000 => Document: Sailors can experience the traditional Dalmatian way of life in many coastal villages.\n",
            "Score 0.000 => Document: The city of Šibenik is a UNESCO World Heritage site and a great stop for sailors.\n",
            "Score 0.000 => Document: The town of Samobor is famous for its traditional cream cake called 'kremsnita'.\n",
            "Score 0.000 => Document: Sailing around the island of Lastovo provides a more secluded experience.\n",
            "Score 0.000 => Document: The Pakleni Islands near Hvar are a popular spot for sailing yachts.\n",
            "Score 0.000 => Document: Sailing to the island of Rab, known for its medieval old town, is a great experience.\n",
            "Score 0.000 => Document: The island of Brač is known for its beautiful beaches and great sailing conditions.\n",
            "Score 0.000 => Document: The city of Sibenik is home to the impressive St. James's Cathedral, a UNESCO World Heritage site.\n",
            "Score 0.000 => Document: The Makarska Riviera is known for its stunning coastline and sailing opportunities.\n",
            "Score 0.000 => Document: The city of Varazdin is known for its baroque buildings and vibrant cultural scene.\n",
            "Score 0.000 => Document: The city of Porec is known for the Euphrasian Basilica, a UNESCO World Heritage site.\n",
            "Score 0.000 => Document: The city of Opatija is known for its grand villas and seaside promenade.\n",
            "Score 0.000 => Document: The town of Trogir is a UNESCO World Heritage site known for its medieval architecture.\n",
            "Score 0.000 => Document: Sailing around the island of Murter gives access to the Kornati Islands National Park.\n",
            "Score 0.000 => Document: The city of Zadar is famous for its unique Sea Organ, an architectural sound art object.\n",
            "Score 0.000 => Document: The Dubrovnik Summer Festival is a major cultural event featuring theater, music, and dance performances.\n",
            "Score 0.000 => Document: The Peljesac Peninsula is known for its vineyards and wine production.\n",
            "Score 0.000 => Document: The town of Cavtat is a quieter alternative to nearby Dubrovnik.\n",
            "Score 0.000 => Document: The Istrian Peninsula is famous for its truffles and gourmet food.\n",
            "Score 0.000 => Document: The island of Mljet has a national park that is perfect for exploring by sailboat.\n",
            "Score 0.000 => Document: The Plitvice Lakes National Park is a UNESCO World Heritage site known for its stunning waterfalls and lakes.\n",
            "Score 0.000 => Document: The city of Hvar is one of the sunniest places in Europe and a popular sailing hub.\n",
            "Score 0.000 => Document: The city of Dubrovnik is often called the 'Pearl of the Adriatic'.\n",
            "Score 0.000 => Document: The island of Losinj is famous for its health tourism and clean air.\n",
            "Score 0.000 => Document: The city of Pula, with its Roman amphitheater, is a unique sailing destination.\n",
            "Score 0.000 => Document: The island of Pag is famous for its cheese, which is considered a delicacy.\n",
            "Score 0.000 => Document: The island of Krk is accessible by bridge and is a popular starting point for sailing trips.\n",
            "Score 0.000 => Document: The city of Trogir, with its historic architecture, is a great place to dock.\n",
            "Score 0.000 => Document: Many sailors start their Croatian adventure from the city of Zadar.\n",
            "Score 0.000 => Document: The city of Rijeka is an important cultural and historical sailing destination.\n",
            "Score 0.000 => Document: Sailing to the island of Šolta offers a quiet escape from the more touristy areas.\n",
            "Score 0.000 => Document: The Brijuni Islands are a national park and a former presidential retreat.\n",
            "Score 0.000 => Document: Sailing to the Elaphiti Islands offers a mix of natural beauty and cultural sites.\n",
            "Score 0.000 => Document: The city of Zadar is famous for its sunsets, which sailors can enjoy from the sea.\n",
            "Score 0.000 => Document: The ancient city of Pula is known for its well-preserved Roman amphitheater.\n",
            "Score 0.000 => Document: Sailors can enjoy snorkeling in the clear waters of the Adriatic Sea.\n",
            "Score 0.000 => Document: The city of Opatija is a historical seaside resort that welcomes sailors.\n",
            "Score 0.000 => Document: The island of Pag is famous for its cheese and nightlife, and is a fun stop for sailors.\n",
            "Score 0.000 => Document: The Blue Cave on Biševo Island is a must-see for sailors.\n",
            "Score 0.000 => Document: Sailing around the island of Mljet offers a peaceful and scenic experience.\n",
            "Score 0.000 => Document: The island of Brac is home to the famous Zlatni Rat beach, known for its changing shape.\n",
            "Score 0.000 => Document: The coastal town of Makarska is known for its beautiful beaches and lively nightlife.\n"
          ]
        }
      ]
    },
    {
      "cell_type": "code",
      "source": [],
      "metadata": {
        "id": "EbRyn2EgBF9A"
      },
      "execution_count": null,
      "outputs": []
    }
  ]
}